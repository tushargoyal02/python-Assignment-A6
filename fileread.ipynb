{
 "cells": [
  {
   "cell_type": "code",
   "execution_count": 1,
   "id": "f6557f70",
   "metadata": {},
   "outputs": [],
   "source": [
    "# lamdba function\n",
    "# annymous function => no name function\n",
    "# one line function\n",
    "# code readable"
   ]
  },
  {
   "cell_type": "code",
   "execution_count": 7,
   "id": "67195685",
   "metadata": {},
   "outputs": [
    {
     "name": "stdout",
     "output_type": "stream",
     "text": [
      "['hey', 'hyy']\n"
     ]
    }
   ],
   "source": [
    "def func(x):\n",
    "    y=x.split(\" \")\n",
    "    print(y)\n",
    "    \n",
    "    \n",
    "a=func\n",
    "a(\"hey hyy\")"
   ]
  },
  {
   "cell_type": "code",
   "execution_count": 6,
   "id": "aa273d2d",
   "metadata": {},
   "outputs": [
    {
     "data": {
      "text/plain": [
       "['hey', 'hyy']"
      ]
     },
     "execution_count": 6,
     "metadata": {},
     "output_type": "execute_result"
    }
   ],
   "source": [
    "# lambda parameter : expresssion\n",
    "a=lambda x:  x.split(\" \")\n",
    "a(\"hey hyy\")"
   ]
  },
  {
   "cell_type": "code",
   "execution_count": 8,
   "id": "f05238a5",
   "metadata": {},
   "outputs": [],
   "source": [
    "#map, filter\n",
    "#[10,20,30,40,55,61]"
   ]
  },
  {
   "cell_type": "code",
   "execution_count": 15,
   "id": "061d9383",
   "metadata": {},
   "outputs": [
    {
     "data": {
      "text/plain": [
       "35"
      ]
     },
     "execution_count": 15,
     "metadata": {},
     "output_type": "execute_result"
    }
   ],
   "source": [
    "def func5(num):\n",
    "    return num*5\n",
    "\n",
    "out=map(func5,  [7,15,30]  )\n",
    "next(out)"
   ]
  },
  {
   "cell_type": "code",
   "execution_count": 16,
   "id": "152de12d",
   "metadata": {},
   "outputs": [
    {
     "data": {
      "text/plain": [
       "75"
      ]
     },
     "execution_count": 16,
     "metadata": {},
     "output_type": "execute_result"
    }
   ],
   "source": [
    "next(out)"
   ]
  },
  {
   "cell_type": "code",
   "execution_count": 17,
   "id": "72c17e3f",
   "metadata": {},
   "outputs": [
    {
     "data": {
      "text/plain": [
       "150"
      ]
     },
     "execution_count": 17,
     "metadata": {},
     "output_type": "execute_result"
    }
   ],
   "source": [
    "next(out)"
   ]
  },
  {
   "cell_type": "code",
   "execution_count": 18,
   "id": "80cb2152",
   "metadata": {},
   "outputs": [
    {
     "data": {
      "text/plain": [
       "[35, 75, 150]"
      ]
     },
     "execution_count": 18,
     "metadata": {},
     "output_type": "execute_result"
    }
   ],
   "source": [
    "def func5(num):\n",
    "    return num*5\n",
    "\n",
    "list(  map(func5,  [7,15,30]  ) )\n"
   ]
  },
  {
   "cell_type": "code",
   "execution_count": null,
   "id": "bb959e10",
   "metadata": {},
   "outputs": [],
   "source": [
    "def func5(num):\n",
    "    return num*5\n",
    "\n",
    "out=map(func5,  [7,15,30]  )\n",
    "next(out)"
   ]
  },
  {
   "cell_type": "code",
   "execution_count": 21,
   "id": "684dc7ea",
   "metadata": {},
   "outputs": [
    {
     "data": {
      "text/plain": [
       "35"
      ]
     },
     "execution_count": 21,
     "metadata": {},
     "output_type": "execute_result"
    }
   ],
   "source": [
    "out=map(lambda num  : num*5,  [7,15,30]  ) \n",
    "next(out)"
   ]
  },
  {
   "cell_type": "code",
   "execution_count": 23,
   "id": "241c9e32",
   "metadata": {},
   "outputs": [
    {
     "data": {
      "text/plain": [
       "[False, False, True]"
      ]
     },
     "execution_count": 23,
     "metadata": {},
     "output_type": "execute_result"
    }
   ],
   "source": [
    "\n",
    "\n",
    "list(  map(lambda num: num%2==0,  [7,15,30]  ) )\n"
   ]
  },
  {
   "cell_type": "code",
   "execution_count": 26,
   "id": "ceb76a38",
   "metadata": {},
   "outputs": [
    {
     "data": {
      "text/plain": [
       "[7, 15, 30]"
      ]
     },
     "execution_count": 26,
     "metadata": {},
     "output_type": "execute_result"
    }
   ],
   "source": [
    "list(  filter(lambda num: num,  [7,15,30]  ) )"
   ]
  },
  {
   "cell_type": "code",
   "execution_count": 27,
   "id": "14a39b23",
   "metadata": {},
   "outputs": [
    {
     "name": "stdout",
     "output_type": "stream",
     "text": [
      "asdf\n"
     ]
    }
   ],
   "source": [
    "x=10\n",
    "if(x):\n",
    "    print(\"asdf\")"
   ]
  },
  {
   "cell_type": "code",
   "execution_count": null,
   "id": "a3dddc7f",
   "metadata": {},
   "outputs": [],
   "source": [
    "# file handling \n",
    "# mechanism  => file yh data store kr sakte hai in file"
   ]
  },
  {
   "cell_type": "code",
   "execution_count": 28,
   "id": "e3a77805",
   "metadata": {},
   "outputs": [
    {
     "name": "stdout",
     "output_type": "stream",
     "text": [
      "52\n"
     ]
    }
   ],
   "source": [
    "x=10\n",
    "print(x*5+2)"
   ]
  },
  {
   "cell_type": "code",
   "execution_count": 29,
   "id": "3cf85a6b",
   "metadata": {},
   "outputs": [],
   "source": [
    "# open  => access mode\n",
    "#read /write\n",
    "#close"
   ]
  },
  {
   "cell_type": "code",
   "execution_count": 33,
   "id": "0a2ca6c2",
   "metadata": {},
   "outputs": [],
   "source": [
    "fileobj= open(\"regex1.txt\")\n",
    "x_data= fileobj.read()\n",
    "fileobj.close()"
   ]
  },
  {
   "cell_type": "code",
   "execution_count": 34,
   "id": "601c11a5",
   "metadata": {},
   "outputs": [
    {
     "name": "stdout",
     "output_type": "stream",
     "text": [
      "hello tushar hey world\n"
     ]
    }
   ],
   "source": [
    "print(x_data)"
   ]
  },
  {
   "cell_type": "code",
   "execution_count": 36,
   "id": "48063c5e",
   "metadata": {},
   "outputs": [],
   "source": [
    "fileobj= open(\"regex1.txt\",\"w\")\n",
    "# w=> overwrite all its previous content\n",
    "fileobj.write(\"sadfsadfsad\")\n",
    "fileobj.close()"
   ]
  },
  {
   "cell_type": "code",
   "execution_count": 37,
   "id": "738c9734",
   "metadata": {},
   "outputs": [
    {
     "name": "stdout",
     "output_type": "stream",
     "text": [
      "sadfsadfsad\n"
     ]
    }
   ],
   "source": [
    "fileobj= open(\"regex1.txt\",\"r+\")\n",
    "x_data= fileobj.read()\n",
    "fileobj.write(\"##\")\n",
    "fileobj.close()\n",
    "\n",
    "#show\n",
    "print(x_data)"
   ]
  },
  {
   "cell_type": "code",
   "execution_count": 38,
   "id": "bcdee20d",
   "metadata": {},
   "outputs": [
    {
     "name": "stdout",
     "output_type": "stream",
     "text": [
      "pan\n"
     ]
    }
   ],
   "source": [
    "fileobj= open(\"regex1.txt\",\"r+\")\n",
    "fileobj.write(\"##\")\n",
    "x_data= fileobj.read()\n",
    "\n",
    "fileobj.close()\n",
    "\n",
    "#show\n",
    "print(x_data)"
   ]
  },
  {
   "cell_type": "code",
   "execution_count": null,
   "id": "4723c7c5",
   "metadata": {},
   "outputs": [],
   "source": [
    "#w+,  a\n",
    "# A1  =>\n",
    "\n",
    "#a2  => to check whether a number is a palindrome or not\n",
    "# to check whether a string is a palindrome or not\n",
    "\n",
    "# to take a number and print all its factor\n",
    "#list  =>[10,20,30,40123,123,123]\n",
    "# to check which number are more than target=70\n",
    "\n",
    "'''\n",
    "    *\n",
    "   * *\n",
    "  * * *\n",
    "\n",
    "* * * *\n",
    " * * *\n",
    "  * *\n",
    "   *\n",
    " \n",
    "#list  =>[10,20,30,40123,123,123]\n",
    "# to check which two number make the value 143\n",
    "\n",
    "'''\n"
   ]
  }
 ],
 "metadata": {
  "kernelspec": {
   "display_name": "Python 3 (ipykernel)",
   "language": "python",
   "name": "python3"
  },
  "language_info": {
   "codemirror_mode": {
    "name": "ipython",
    "version": 3
   },
   "file_extension": ".py",
   "mimetype": "text/x-python",
   "name": "python",
   "nbconvert_exporter": "python",
   "pygments_lexer": "ipython3",
   "version": "3.10.11"
  }
 },
 "nbformat": 4,
 "nbformat_minor": 5
}
